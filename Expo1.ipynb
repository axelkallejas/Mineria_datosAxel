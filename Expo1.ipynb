{
 "cells": [
  {
   "cell_type": "code",
   "execution_count": 1,
   "metadata": {},
   "outputs": [],
   "source": [
    "import pandas as pd\n",
    "import numpy as np\n",
    "import missingno as msno\n",
    "%matplotlib inline"
   ]
  },
  {
   "cell_type": "code",
   "execution_count": 14,
   "metadata": {},
   "outputs": [
    {
     "data": {
      "text/html": [
       "<div>\n",
       "<style scoped>\n",
       "    .dataframe tbody tr th:only-of-type {\n",
       "        vertical-align: middle;\n",
       "    }\n",
       "\n",
       "    .dataframe tbody tr th {\n",
       "        vertical-align: top;\n",
       "    }\n",
       "\n",
       "    .dataframe thead th {\n",
       "        text-align: right;\n",
       "    }\n",
       "</style>\n",
       "<table border=\"1\" class=\"dataframe\">\n",
       "  <thead>\n",
       "    <tr style=\"text-align: right;\">\n",
       "      <th></th>\n",
       "      <th>CARRERA</th>\n",
       "      <th>QUERIAS</th>\n",
       "      <th>APASIONA</th>\n",
       "      <th>LABORALES</th>\n",
       "      <th>FERIAs</th>\n",
       "      <th>FINANCIEROS</th>\n",
       "    </tr>\n",
       "  </thead>\n",
       "  <tbody>\n",
       "    <tr>\n",
       "      <td>0</td>\n",
       "      <td>1</td>\n",
       "      <td>1</td>\n",
       "      <td>5</td>\n",
       "      <td>3</td>\n",
       "      <td>1</td>\n",
       "      <td>1</td>\n",
       "    </tr>\n",
       "    <tr>\n",
       "      <td>1</td>\n",
       "      <td>2</td>\n",
       "      <td>1</td>\n",
       "      <td>2</td>\n",
       "      <td>4</td>\n",
       "      <td>1</td>\n",
       "      <td>5</td>\n",
       "    </tr>\n",
       "    <tr>\n",
       "      <td>2</td>\n",
       "      <td>2</td>\n",
       "      <td>1</td>\n",
       "      <td>3</td>\n",
       "      <td>2</td>\n",
       "      <td>1</td>\n",
       "      <td>1</td>\n",
       "    </tr>\n",
       "    <tr>\n",
       "      <td>3</td>\n",
       "      <td>3</td>\n",
       "      <td>1</td>\n",
       "      <td>1</td>\n",
       "      <td>1</td>\n",
       "      <td>1</td>\n",
       "      <td>3</td>\n",
       "    </tr>\n",
       "    <tr>\n",
       "      <td>4</td>\n",
       "      <td>2</td>\n",
       "      <td>1</td>\n",
       "      <td>3</td>\n",
       "      <td>3</td>\n",
       "      <td>2</td>\n",
       "      <td>1</td>\n",
       "    </tr>\n",
       "  </tbody>\n",
       "</table>\n",
       "</div>"
      ],
      "text/plain": [
       "   CARRERA  QUERIAS  APASIONA  LABORALES  FERIAs  FINANCIEROS\n",
       "0        1        1         5          3       1            1\n",
       "1        2        1         2          4       1            5\n",
       "2        2        1         3          2       1            1\n",
       "3        3        1         1          1       1            3\n",
       "4        2        1         3          3       2            1"
      ]
     },
     "execution_count": 14,
     "metadata": {},
     "output_type": "execute_result"
    }
   ],
   "source": [
    "path = 'practica7.csv'\n",
    "df = pd.read_csv(path)\n",
    "df.head()"
   ]
  },
  {
   "cell_type": "code",
   "execution_count": 15,
   "metadata": {},
   "outputs": [
    {
     "name": "stdout",
     "output_type": "stream",
     "text": [
      "<class 'pandas.core.frame.DataFrame'>\n",
      "RangeIndex: 50 entries, 0 to 49\n",
      "Data columns (total 6 columns):\n",
      "CARRERA        50 non-null int64\n",
      "QUERIAS        50 non-null int64\n",
      "APASIONA       50 non-null int64\n",
      "LABORALES      50 non-null int64\n",
      "FERIAs         50 non-null int64\n",
      "FINANCIEROS    50 non-null int64\n",
      "dtypes: int64(6)\n",
      "memory usage: 2.5 KB\n"
     ]
    }
   ],
   "source": [
    "df.info()"
   ]
  },
  {
   "cell_type": "code",
   "execution_count": 20,
   "metadata": {},
   "outputs": [
    {
     "data": {
      "text/plain": [
       "CARRERA        int64\n",
       "QUERIAS        int64\n",
       "APASIONA       int64\n",
       "LABORALES      int64\n",
       "FERIAs         int64\n",
       "FINANCIEROS    int64\n",
       "dtype: object"
      ]
     },
     "execution_count": 20,
     "metadata": {},
     "output_type": "execute_result"
    }
   ],
   "source": [
    "df.dtypes"
   ]
  },
  {
   "cell_type": "code",
   "execution_count": 21,
   "metadata": {},
   "outputs": [
    {
     "data": {
      "text/plain": [
       "False"
      ]
     },
     "execution_count": 21,
     "metadata": {},
     "output_type": "execute_result"
    }
   ],
   "source": [
    "df.isnull().any().any()\n"
   ]
  },
  {
   "cell_type": "code",
   "execution_count": 23,
   "metadata": {},
   "outputs": [
    {
     "data": {
      "text/html": [
       "<div>\n",
       "<style scoped>\n",
       "    .dataframe tbody tr th:only-of-type {\n",
       "        vertical-align: middle;\n",
       "    }\n",
       "\n",
       "    .dataframe tbody tr th {\n",
       "        vertical-align: top;\n",
       "    }\n",
       "\n",
       "    .dataframe thead th {\n",
       "        text-align: right;\n",
       "    }\n",
       "</style>\n",
       "<table border=\"1\" class=\"dataframe\">\n",
       "  <thead>\n",
       "    <tr style=\"text-align: right;\">\n",
       "      <th></th>\n",
       "      <th>CARRERA</th>\n",
       "      <th>QUERIAS</th>\n",
       "      <th>APASIONA</th>\n",
       "      <th>LABORALES</th>\n",
       "      <th>FERIAs</th>\n",
       "      <th>FINANCIEROS</th>\n",
       "    </tr>\n",
       "  </thead>\n",
       "  <tbody>\n",
       "    <tr>\n",
       "      <td>count</td>\n",
       "      <td>50.00000</td>\n",
       "      <td>50.000000</td>\n",
       "      <td>50.000000</td>\n",
       "      <td>50.000000</td>\n",
       "      <td>50.000000</td>\n",
       "      <td>50.000000</td>\n",
       "    </tr>\n",
       "    <tr>\n",
       "      <td>mean</td>\n",
       "      <td>6.10000</td>\n",
       "      <td>2.760000</td>\n",
       "      <td>3.560000</td>\n",
       "      <td>3.660000</td>\n",
       "      <td>2.480000</td>\n",
       "      <td>2.280000</td>\n",
       "    </tr>\n",
       "    <tr>\n",
       "      <td>std</td>\n",
       "      <td>4.80752</td>\n",
       "      <td>1.041192</td>\n",
       "      <td>1.197957</td>\n",
       "      <td>1.349376</td>\n",
       "      <td>1.843245</td>\n",
       "      <td>1.429143</td>\n",
       "    </tr>\n",
       "    <tr>\n",
       "      <td>min</td>\n",
       "      <td>1.00000</td>\n",
       "      <td>1.000000</td>\n",
       "      <td>1.000000</td>\n",
       "      <td>1.000000</td>\n",
       "      <td>1.000000</td>\n",
       "      <td>1.000000</td>\n",
       "    </tr>\n",
       "    <tr>\n",
       "      <td>25%</td>\n",
       "      <td>2.00000</td>\n",
       "      <td>2.000000</td>\n",
       "      <td>2.250000</td>\n",
       "      <td>3.000000</td>\n",
       "      <td>1.000000</td>\n",
       "      <td>1.000000</td>\n",
       "    </tr>\n",
       "    <tr>\n",
       "      <td>50%</td>\n",
       "      <td>4.00000</td>\n",
       "      <td>3.000000</td>\n",
       "      <td>4.000000</td>\n",
       "      <td>4.000000</td>\n",
       "      <td>1.000000</td>\n",
       "      <td>2.000000</td>\n",
       "    </tr>\n",
       "    <tr>\n",
       "      <td>75%</td>\n",
       "      <td>9.75000</td>\n",
       "      <td>3.750000</td>\n",
       "      <td>4.000000</td>\n",
       "      <td>5.000000</td>\n",
       "      <td>5.000000</td>\n",
       "      <td>3.750000</td>\n",
       "    </tr>\n",
       "    <tr>\n",
       "      <td>max</td>\n",
       "      <td>16.00000</td>\n",
       "      <td>4.000000</td>\n",
       "      <td>5.000000</td>\n",
       "      <td>5.000000</td>\n",
       "      <td>5.000000</td>\n",
       "      <td>5.000000</td>\n",
       "    </tr>\n",
       "  </tbody>\n",
       "</table>\n",
       "</div>"
      ],
      "text/plain": [
       "        CARRERA    QUERIAS   APASIONA  LABORALES     FERIAs  FINANCIEROS\n",
       "count  50.00000  50.000000  50.000000  50.000000  50.000000    50.000000\n",
       "mean    6.10000   2.760000   3.560000   3.660000   2.480000     2.280000\n",
       "std     4.80752   1.041192   1.197957   1.349376   1.843245     1.429143\n",
       "min     1.00000   1.000000   1.000000   1.000000   1.000000     1.000000\n",
       "25%     2.00000   2.000000   2.250000   3.000000   1.000000     1.000000\n",
       "50%     4.00000   3.000000   4.000000   4.000000   1.000000     2.000000\n",
       "75%     9.75000   3.750000   4.000000   5.000000   5.000000     3.750000\n",
       "max    16.00000   4.000000   5.000000   5.000000   5.000000     5.000000"
      ]
     },
     "execution_count": 23,
     "metadata": {},
     "output_type": "execute_result"
    }
   ],
   "source": [
    "df.describe()"
   ]
  },
  {
   "cell_type": "code",
   "execution_count": 30,
   "metadata": {},
   "outputs": [
    {
     "data": {
      "text/plain": [
       "Text(0.5, 1.0, 'Frequency of tipoact')"
      ]
     },
     "execution_count": 30,
     "metadata": {},
     "output_type": "execute_result"
    },
    {
     "data": {
      "image/png": "[encoded data removed]",
      "text/plain": [
       "<Figure size 432x288 with 1 Axes>"
      ]
     },
     "metadata": {},
     "output_type": "display_data"
    }
   ],
   "source": [
    "plt.hist(df['CARRERA'])\n",
    "plt.xlabel('CARRERA')\n",
    "plt.ylabel('Frequency')\n",
    "plt.title('Frequency of tipoact')"
   ]
  },
  {
   "cell_type": "code",
   "execution_count": 56,
   "metadata": {},
   "outputs": [],
   "source": [
    "import numpy as np\n",
    "from sklearn.preprocessing import PowerTransformer\n",
    "from sklearn.preprocessing import power_transform"
   ]
  },
  {
   "cell_type": "code",
   "execution_count": 32,
   "metadata": {},
   "outputs": [],
   "source": [
    "pt = PowerTransformer()\n",
    "data = [df]"
   ]
  },
  {
   "cell_type": "code",
   "execution_count": 35,
   "metadata": {},
   "outputs": [
    {
     "name": "stdout",
     "output_type": "stream",
     "text": [
      "PowerTransformer(copy=True, method='yeo-johnson', standardize=True)\n"
     ]
    }
   ],
   "source": [
    "print(pt.fit(df))\n"
   ]
  },
  {
   "cell_type": "code",
   "execution_count": 36,
   "metadata": {
    "scrolled": true
   },
   "outputs": [
    {
     "name": "stdout",
     "output_type": "stream",
     "text": [
      "[-0.37591546  1.70204482  1.7165753   1.9689002  -1.15922669 -0.72263518]\n"
     ]
    }
   ],
   "source": [
    "print(pt.lambdas_)"
   ]
  },
  {
   "cell_type": "markdown",
   "metadata": {},
   "source": [
    "if X >= 0 and lambda_ == 0:\n",
    "    X = exp(X_trans) - 1\n",
    "elif X >= 0 and lambda_ != 0:\n",
    "    X = (X_trans * lambda_ + 1) ** (1 / lambda_) - 1\n",
    "elif X < 0 and lambda_ != 2:\n",
    "    X = 1 - (-(2 - lambda_) * X_trans + 1) ** (1 / (2 - lambda_))\n",
    "elif X < 0 and lambda_ == 2:\n",
    "    X = 1 - exp(-X_trans)\n"
   ]
  },
  {
   "cell_type": "code",
   "execution_count": 51,
   "metadata": {},
   "outputs": [],
   "source": [
    "df_tranf =(pt.transform(df)) "
   ]
  },
  {
   "cell_type": "code",
   "execution_count": 53,
   "metadata": {},
   "outputs": [
    {
     "name": "stdout",
     "output_type": "stream",
     "text": [
      "[[-1.82432861 -1.58778624  1.31184541 -0.65570638 -0.86039609 -0.98766412]\n",
      " [-0.97454092 -1.58778624 -1.30121199  0.1359683  -0.86039609  1.47844299]\n",
      " [-0.97454092 -1.58778624 -0.57145098 -1.27625957 -0.86039609 -0.98766412]\n",
      " [-0.44551114 -1.58778624 -1.87424286 -1.72413013 -0.86039609  0.78571915]\n",
      " [-0.97454092 -1.58778624 -0.57145098 -0.65570638  0.25945425 -0.98766412]\n",
      " [-0.97454092 -1.58778624 -1.87424286  0.1359683   1.09345091 -0.98766412]\n",
      " [-0.07280273 -1.58778624  1.31184541  1.09757062  1.29011714  1.19189918]\n",
      " [-0.07280273 -1.58778624  1.31184541  1.09757062  1.29011714 -0.98766412]\n",
      " [ 0.20934908 -1.58778624 -1.30121199  0.1359683  -0.86039609  1.47844299]\n",
      " [ 0.43327281 -0.82257944 -1.30121199  1.09757062 -0.86039609 -0.98766412]\n",
      " [ 0.61702803 -0.82257944  1.31184541  1.09757062 -0.86039609 -0.98766412]\n",
      " [-0.97454092 -0.82257944  1.31184541  1.09757062  1.29011714 -0.98766412]\n",
      " [ 0.77162978 -0.82257944  1.31184541  1.09757062  0.78870137 -0.98766412]\n",
      " [ 0.43327281 -0.82257944 -1.30121199  1.09757062 -0.86039609 -0.98766412]\n",
      " [-0.97454092 -0.82257944 -0.57145098 -1.72413013 -0.86039609 -0.98766412]\n",
      " [-0.97454092 -0.82257944  0.30254624  1.09757062 -0.86039609  1.19189918]\n",
      " [ 0.90424319  0.14718648  0.30254624  0.1359683   1.29011714  1.47844299]\n",
      " [-0.97454092  0.14718648  0.30254624  1.09757062  1.29011714  1.47844299]\n",
      " [ 1.01976478  0.14718648 -0.57145098 -1.27625957  0.25945425 -0.98766412]\n",
      " [ 1.12167396  0.14718648  1.31184541  0.1359683  -0.86039609  0.78571915]\n",
      " [ 1.21252285  0.14718648  0.30254624  1.09757062 -0.86039609 -0.98766412]\n",
      " [-0.97454092  0.14718648  0.30254624  1.09757062  1.29011714 -0.98766412]\n",
      " [-0.97454092  0.14718648  0.30254624  0.1359683   1.29011714 -0.98766412]\n",
      " [-0.97454092  0.14718648  0.30254624  0.1359683   1.29011714  0.78571915]\n",
      " [ 1.29423323  0.14718648  0.30254624 -0.65570638  0.25945425 -0.98766412]\n",
      " [ 1.01976478  0.14718648  0.30254624  1.09757062 -0.86039609  0.78571915]\n",
      " [ 1.36828467  0.14718648 -0.57145098 -1.27625957  1.29011714 -0.98766412]\n",
      " [-0.97454092  0.14718648 -1.30121199 -1.72413013 -0.86039609 -0.98766412]\n",
      " [-0.97454092  0.14718648  0.30254624 -1.27625957 -0.86039609  0.78571915]\n",
      " [-0.97454092  0.14718648  0.30254624 -1.27625957 -0.86039609  0.78571915]\n",
      " [-0.97454092  0.14718648  0.30254624 -1.72413013 -0.86039609  1.19189918]\n",
      " [-0.97454092  0.14718648  0.30254624 -1.72413013 -0.86039609  1.19189918]\n",
      " [ 0.61702803  0.14718648 -1.30121199 -0.65570638 -0.86039609  0.15546424]\n",
      " [ 0.61702803  0.14718648 -1.30121199 -0.65570638 -0.86039609  0.15546424]\n",
      " [ 0.61702803  0.14718648 -1.30121199 -0.65570638 -0.86039609  0.15546424]\n",
      " [ 0.61702803  0.14718648 -1.30121199 -0.65570638 -0.86039609  0.15546424]\n",
      " [ 0.61702803  0.14718648 -1.30121199 -0.65570638 -0.86039609  0.15546424]\n",
      " [-0.97454092  1.30440125  0.30254624  1.09757062  1.29011714 -0.98766412]\n",
      " [-0.97454092  1.30440125  0.30254624  0.1359683  -0.86039609 -0.98766412]\n",
      " [-0.97454092  1.30440125  0.30254624  1.09757062  1.29011714 -0.98766412]\n",
      " [ 1.435838    1.30440125  0.30254624  0.1359683  -0.86039609  1.19189918]\n",
      " [ 1.435838    1.30440125  0.30254624  0.1359683  -0.86039609  1.19189918]\n",
      " [-0.44551114  1.30440125  1.31184541 -1.27625957 -0.86039609  1.19189918]\n",
      " [ 1.29423323  1.30440125  1.31184541  0.1359683   1.29011714  1.19189918]\n",
      " [ 1.49781899  1.30440125 -0.57145098  0.1359683   0.78870137  1.19189918]\n",
      " [-0.97454092  1.30440125  0.30254624  1.09757062  1.29011714  0.78571915]\n",
      " [ 1.435838    1.30440125  1.31184541  1.09757062  1.29011714 -0.98766412]\n",
      " [ 1.36828467  1.30440125 -1.30121199  0.1359683  -0.86039609 -0.98766412]\n",
      " [ 1.36828467  1.30440125  1.31184541  1.09757062  1.29011714  0.78571915]\n",
      " [-0.97454092  1.30440125  1.31184541  1.09757062  1.29011714 -0.98766412]]\n"
     ]
    }
   ],
   "source": [
    "print(df_tranf)"
   ]
  },
  {
   "cell_type": "code",
   "execution_count": 61,
   "metadata": {},
   "outputs": [
    {
     "name": "stdout",
     "output_type": "stream",
     "text": [
      "    CARRERA  QUERIAS  APASIONA  LABORALES  FERIAs  FINANCIEROS\n",
      "0         1        1         5          3       1            1\n",
      "1         2        1         2          4       1            5\n",
      "2         2        1         3          2       1            1\n",
      "3         3        1         1          1       1            3\n",
      "4         2        1         3          3       2            1\n",
      "5         2        1         1          4       4            1\n",
      "6         4        1         5          5       5            4\n",
      "7         4        1         5          5       5            1\n",
      "8         5        1         2          4       1            5\n",
      "9         6        2         2          5       1            1\n",
      "10        7        2         5          5       1            1\n",
      "11        2        2         5          5       5            1\n",
      "12        8        2         5          5       3            1\n",
      "13        6        2         2          5       1            1\n",
      "14        2        2         3          1       1            1\n",
      "15        2        2         4          5       1            4\n",
      "16        9        3         4          4       5            5\n",
      "17        2        3         4          5       5            5\n",
      "18       10        3         3          2       2            1\n",
      "19       11        3         5          4       1            3\n",
      "20       12        3         4          5       1            1\n",
      "21        2        3         4          5       5            1\n",
      "22        2        3         4          4       5            1\n",
      "23        2        3         4          4       5            3\n",
      "24       13        3         4          3       2            1\n",
      "25       10        3         4          5       1            3\n",
      "26       14        3         3          2       5            1\n",
      "27        2        3         2          1       1            1\n",
      "28        2        3         4          2       1            3\n",
      "29        2        3         4          2       1            3\n",
      "30        2        3         4          1       1            4\n",
      "31        2        3         4          1       1            4\n",
      "32        7        3         2          3       1            2\n",
      "33        7        3         2          3       1            2\n",
      "34        7        3         2          3       1            2\n",
      "35        7        3         2          3       1            2\n",
      "36        7        3         2          3       1            2\n",
      "37        2        4         4          5       5            1\n",
      "38        2        4         4          4       1            1\n",
      "39        2        4         4          5       5            1\n",
      "40       15        4         4          4       1            4\n",
      "41       15        4         4          4       1            4\n",
      "42        3        4         5          2       1            4\n",
      "43       13        4         5          4       5            4\n",
      "44       16        4         3          4       3            4\n",
      "45        2        4         4          5       5            3\n",
      "46       15        4         5          5       5            1\n",
      "47       14        4         2          4       1            1\n",
      "48       14        4         5          5       5            3\n",
      "49        2        4         5          5       5            1\n"
     ]
    }
   ],
   "source": [
    "print(df)"
   ]
  },
  {
   "cell_type": "code",
   "execution_count": null,
   "metadata": {},
   "outputs": [],
   "source": []
  }
 ],
 "metadata": {
  "kernelspec": {
   "display_name": "Python 3",
   "language": "python",
   "name": "python3"
  },
  "language_info": {
   "codemirror_mode": {
    "name": "ipython",
    "version": 3
   },
   "file_extension": ".py",
   "mimetype": "text/x-python",
   "name": "python",
   "nbconvert_exporter": "python",
   "pygments_lexer": "ipython3",
   "version": "3.7.4"
  }
 },
 "nbformat": 4,
 "nbformat_minor": 2
}
