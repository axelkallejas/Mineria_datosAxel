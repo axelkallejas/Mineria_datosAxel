{
 "cells": [
  {
   "cell_type": "code",
   "execution_count": 30,
   "metadata": {},
   "outputs": [],
   "source": [
    "practica6 <- read.csv('C:/Users/Axel/Documents/edgar/1 Mineria Axel/practica6.csv')"
   ]
  },
  {
   "cell_type": "code",
   "execution_count": 32,
   "metadata": {},
   "outputs": [
    {
     "data": {
      "text/html": [
       "<table>\n",
       "<thead><tr><th scope=col>CARRERA</th><th scope=col>CARRERA_LO_QREALM_QUERIAS</th><th scope=col>APASIONA_TUCARRERA</th><th scope=col>OPORT_LABORALES</th><th scope=col>FERIAS_EXPO</th><th scope=col>REC_FINANCIEROS</th></tr></thead>\n",
       "<tbody>\n",
       "\t<tr><td>1</td><td>1</td><td>5</td><td>3</td><td>1</td><td>1</td></tr>\n",
       "\t<tr><td>2</td><td>1</td><td>2</td><td>4</td><td>1</td><td>5</td></tr>\n",
       "\t<tr><td>2</td><td>1</td><td>3</td><td>2</td><td>1</td><td>1</td></tr>\n",
       "</tbody>\n",
       "</table>\n"
      ],
      "text/latex": [
       "\\begin{tabular}{r|llllll}\n",
       " CARRERA & CARRERA\\_LO\\_QREALM\\_QUERIAS & APASIONA\\_TUCARRERA & OPORT\\_LABORALES & FERIAS\\_EXPO & REC\\_FINANCIEROS\\\\\n",
       "\\hline\n",
       "\t 1 & 1 & 5 & 3 & 1 & 1\\\\\n",
       "\t 2 & 1 & 2 & 4 & 1 & 5\\\\\n",
       "\t 2 & 1 & 3 & 2 & 1 & 1\\\\\n",
       "\\end{tabular}\n"
      ],
      "text/markdown": [
       "\n",
       "| CARRERA | CARRERA_LO_QREALM_QUERIAS | APASIONA_TUCARRERA | OPORT_LABORALES | FERIAS_EXPO | REC_FINANCIEROS |\n",
       "|---|---|---|---|---|---|\n",
       "| 1 | 1 | 5 | 3 | 1 | 1 |\n",
       "| 2 | 1 | 2 | 4 | 1 | 5 |\n",
       "| 2 | 1 | 3 | 2 | 1 | 1 |\n",
       "\n"
      ],
      "text/plain": [
       "  CARRERA CARRERA_LO_QREALM_QUERIAS APASIONA_TUCARRERA OPORT_LABORALES\n",
       "1 1       1                         5                  3              \n",
       "2 2       1                         2                  4              \n",
       "3 2       1                         3                  2              \n",
       "  FERIAS_EXPO REC_FINANCIEROS\n",
       "1 1           1              \n",
       "2 1           5              \n",
       "3 1           1              "
      ]
     },
     "metadata": {},
     "output_type": "display_data"
    }
   ],
   "source": [
    "head(practica6,n=3)"
   ]
  },
  {
   "cell_type": "code",
   "execution_count": 33,
   "metadata": {},
   "outputs": [],
   "source": [
    "df <- practica6"
   ]
  },
  {
   "cell_type": "code",
   "execution_count": 34,
   "metadata": {},
   "outputs": [
    {
     "name": "stdout",
     "output_type": "stream",
     "text": [
      "'data.frame':\t50 obs. of  6 variables:\n",
      " $ CARRERA                  : int  1 2 2 3 2 2 4 4 5 6 ...\n",
      " $ CARRERA_LO_QREALM_QUERIAS: int  1 1 1 1 1 1 1 1 1 2 ...\n",
      " $ APASIONA_TUCARRERA       : int  5 2 3 1 3 1 5 5 2 2 ...\n",
      " $ OPORT_LABORALES          : int  3 4 2 1 3 4 5 5 4 5 ...\n",
      " $ FERIAS_EXPO              : int  1 1 1 1 2 4 5 5 1 1 ...\n",
      " $ REC_FINANCIEROS          : int  1 5 1 3 1 1 4 1 5 1 ...\n"
     ]
    }
   ],
   "source": [
    "str(df)"
   ]
  },
  {
   "cell_type": "code",
   "execution_count": 35,
   "metadata": {},
   "outputs": [],
   "source": [
    "df <-scale(df)"
   ]
  },
  {
   "cell_type": "code",
   "execution_count": 36,
   "metadata": {},
   "outputs": [
    {
     "data": {
      "text/html": [
       "<table>\n",
       "<thead><tr><th scope=col>CARRERA</th><th scope=col>CARRERA_LO_QREALM_QUERIAS</th><th scope=col>APASIONA_TUCARRERA</th><th scope=col>OPORT_LABORALES</th><th scope=col>FERIAS_EXPO</th><th scope=col>REC_FINANCIEROS</th></tr></thead>\n",
       "<tbody>\n",
       "\t<tr><td>-1.0608381</td><td>-1.69037  </td><td> 1.2020460</td><td>-0.4891149</td><td>-0.8029319</td><td>-0.8956418</td></tr>\n",
       "\t<tr><td>-0.8528306</td><td>-1.69037  </td><td>-1.3022165</td><td> 0.2519683</td><td>-0.8029319</td><td> 1.9032389</td></tr>\n",
       "\t<tr><td>-0.8528306</td><td>-1.69037  </td><td>-0.4674623</td><td>-1.2301980</td><td>-0.8029319</td><td>-0.8956418</td></tr>\n",
       "</tbody>\n",
       "</table>\n"
      ],
      "text/latex": [
       "\\begin{tabular}{llllll}\n",
       " CARRERA & CARRERA\\_LO\\_QREALM\\_QUERIAS & APASIONA\\_TUCARRERA & OPORT\\_LABORALES & FERIAS\\_EXPO & REC\\_FINANCIEROS\\\\\n",
       "\\hline\n",
       "\t -1.0608381 & -1.69037   &  1.2020460 & -0.4891149 & -0.8029319 & -0.8956418\\\\\n",
       "\t -0.8528306 & -1.69037   & -1.3022165 &  0.2519683 & -0.8029319 &  1.9032389\\\\\n",
       "\t -0.8528306 & -1.69037   & -0.4674623 & -1.2301980 & -0.8029319 & -0.8956418\\\\\n",
       "\\end{tabular}\n"
      ],
      "text/markdown": [
       "\n",
       "| CARRERA | CARRERA_LO_QREALM_QUERIAS | APASIONA_TUCARRERA | OPORT_LABORALES | FERIAS_EXPO | REC_FINANCIEROS |\n",
       "|---|---|---|---|---|---|\n",
       "| -1.0608381 | -1.69037   |  1.2020460 | -0.4891149 | -0.8029319 | -0.8956418 |\n",
       "| -0.8528306 | -1.69037   | -1.3022165 |  0.2519683 | -0.8029319 |  1.9032389 |\n",
       "| -0.8528306 | -1.69037   | -0.4674623 | -1.2301980 | -0.8029319 | -0.8956418 |\n",
       "\n"
      ],
      "text/plain": [
       "     CARRERA    CARRERA_LO_QREALM_QUERIAS APASIONA_TUCARRERA OPORT_LABORALES\n",
       "[1,] -1.0608381 -1.69037                   1.2020460         -0.4891149     \n",
       "[2,] -0.8528306 -1.69037                  -1.3022165          0.2519683     \n",
       "[3,] -0.8528306 -1.69037                  -0.4674623         -1.2301980     \n",
       "     FERIAS_EXPO REC_FINANCIEROS\n",
       "[1,] -0.8029319  -0.8956418     \n",
       "[2,] -0.8029319   1.9032389     \n",
       "[3,] -0.8029319  -0.8956418     "
      ]
     },
     "metadata": {},
     "output_type": "display_data"
    }
   ],
   "source": [
    "head(df, n = 3)"
   ]
  },
  {
   "cell_type": "code",
   "execution_count": 37,
   "metadata": {},
   "outputs": [],
   "source": [
    "ss <- sample(1:50, 15) #tomamos 15 observaciones \n",
    "df <- practica6[ss, ]  #creamos el subcojunto\n",
    "df.scaled <- scale(df) #estandarizamos los valores de las caracterícticas"
   ]
  },
  {
   "cell_type": "code",
   "execution_count": 38,
   "metadata": {},
   "outputs": [],
   "source": [
    "dist.eucl <- dist(df.scaled, method = \"euclidean\")"
   ]
  },
  {
   "cell_type": "code",
   "execution_count": 39,
   "metadata": {},
   "outputs": [
    {
     "data": {
      "text/html": [
       "<table>\n",
       "<thead><tr><th></th><th scope=col>40</th><th scope=col>15</th><th scope=col>26</th></tr></thead>\n",
       "<tbody>\n",
       "\t<tr><th scope=row>40</th><td>0.0</td><td>4.0</td><td>3.2</td></tr>\n",
       "\t<tr><th scope=row>15</th><td>4.0</td><td>0.0</td><td>3.8</td></tr>\n",
       "\t<tr><th scope=row>26</th><td>3.2</td><td>3.8</td><td>0.0</td></tr>\n",
       "</tbody>\n",
       "</table>\n"
      ],
      "text/latex": [
       "\\begin{tabular}{r|lll}\n",
       "  & 40 & 15 & 26\\\\\n",
       "\\hline\n",
       "\t40 & 0.0 & 4.0 & 3.2\\\\\n",
       "\t15 & 4.0 & 0.0 & 3.8\\\\\n",
       "\t26 & 3.2 & 3.8 & 0.0\\\\\n",
       "\\end{tabular}\n"
      ],
      "text/markdown": [
       "\n",
       "| <!--/--> | 40 | 15 | 26 |\n",
       "|---|---|---|---|\n",
       "| 40 | 0.0 | 4.0 | 3.2 |\n",
       "| 15 | 4.0 | 0.0 | 3.8 |\n",
       "| 26 | 3.2 | 3.8 | 0.0 |\n",
       "\n"
      ],
      "text/plain": [
       "   40  15  26 \n",
       "40 0.0 4.0 3.2\n",
       "15 4.0 0.0 3.8\n",
       "26 3.2 3.8 0.0"
      ]
     },
     "metadata": {},
     "output_type": "display_data"
    }
   ],
   "source": [
    "round(as.matrix(dist.eucl)[1:3, 1:3], 1)"
   ]
  },
  {
   "cell_type": "code",
   "execution_count": 40,
   "metadata": {},
   "outputs": [],
   "source": [
    "library(cluster)"
   ]
  },
  {
   "cell_type": "code",
   "execution_count": 41,
   "metadata": {},
   "outputs": [
    {
     "data": {
      "text/html": [
       "<table>\n",
       "<thead><tr><th scope=col>CARRERA</th><th scope=col>CARRERA_LO_QREALM_QUERIAS</th><th scope=col>APASIONA_TUCARRERA</th><th scope=col>OPORT_LABORALES</th><th scope=col>FERIAS_EXPO</th><th scope=col>REC_FINANCIEROS</th></tr></thead>\n",
       "<tbody>\n",
       "\t<tr><td>1</td><td>1</td><td>5</td><td>3</td><td>1</td><td>1</td></tr>\n",
       "\t<tr><td>2</td><td>1</td><td>2</td><td>4</td><td>1</td><td>5</td></tr>\n",
       "\t<tr><td>2</td><td>1</td><td>3</td><td>2</td><td>1</td><td>1</td></tr>\n",
       "</tbody>\n",
       "</table>\n"
      ],
      "text/latex": [
       "\\begin{tabular}{r|llllll}\n",
       " CARRERA & CARRERA\\_LO\\_QREALM\\_QUERIAS & APASIONA\\_TUCARRERA & OPORT\\_LABORALES & FERIAS\\_EXPO & REC\\_FINANCIEROS\\\\\n",
       "\\hline\n",
       "\t 1 & 1 & 5 & 3 & 1 & 1\\\\\n",
       "\t 2 & 1 & 2 & 4 & 1 & 5\\\\\n",
       "\t 2 & 1 & 3 & 2 & 1 & 1\\\\\n",
       "\\end{tabular}\n"
      ],
      "text/markdown": [
       "\n",
       "| CARRERA | CARRERA_LO_QREALM_QUERIAS | APASIONA_TUCARRERA | OPORT_LABORALES | FERIAS_EXPO | REC_FINANCIEROS |\n",
       "|---|---|---|---|---|---|\n",
       "| 1 | 1 | 5 | 3 | 1 | 1 |\n",
       "| 2 | 1 | 2 | 4 | 1 | 5 |\n",
       "| 2 | 1 | 3 | 2 | 1 | 1 |\n",
       "\n"
      ],
      "text/plain": [
       "  CARRERA CARRERA_LO_QREALM_QUERIAS APASIONA_TUCARRERA OPORT_LABORALES\n",
       "1 1       1                         5                  3              \n",
       "2 2       1                         2                  4              \n",
       "3 2       1                         3                  2              \n",
       "  FERIAS_EXPO REC_FINANCIEROS\n",
       "1 1           1              \n",
       "2 1           5              \n",
       "3 1           1              "
      ]
     },
     "metadata": {},
     "output_type": "display_data"
    }
   ],
   "source": [
    "head(practica6, 3)"
   ]
  },
  {
   "cell_type": "code",
   "execution_count": 42,
   "metadata": {},
   "outputs": [
    {
     "data": {
      "text/html": [
       "<table>\n",
       "<thead><tr><th></th><th scope=col>CARRERA</th><th scope=col>CARRERA_LO_QREALM_QUERIAS</th><th scope=col>APASIONA_TUCARRERA</th><th scope=col>OPORT_LABORALES</th><th scope=col>FERIAS_EXPO</th><th scope=col>REC_FINANCIEROS</th></tr></thead>\n",
       "<tbody>\n",
       "\t<tr><th scope=row>40</th><td> 2</td><td>4 </td><td>4 </td><td>5 </td><td>5 </td><td>1 </td></tr>\n",
       "\t<tr><th scope=row>15</th><td> 2</td><td>2 </td><td>3 </td><td>1 </td><td>1 </td><td>1 </td></tr>\n",
       "\t<tr><th scope=row>26</th><td>10</td><td>3 </td><td>4 </td><td>5 </td><td>1 </td><td>3 </td></tr>\n",
       "\t<tr><th scope=row>49</th><td>14</td><td>4 </td><td>5 </td><td>5 </td><td>5 </td><td>3 </td></tr>\n",
       "\t<tr><th scope=row>13</th><td> 8</td><td>2 </td><td>5 </td><td>5 </td><td>3 </td><td>1 </td></tr>\n",
       "\t<tr><th scope=row>10</th><td> 6</td><td>2 </td><td>2 </td><td>5 </td><td>1 </td><td>1 </td></tr>\n",
       "</tbody>\n",
       "</table>\n"
      ],
      "text/latex": [
       "\\begin{tabular}{r|llllll}\n",
       "  & CARRERA & CARRERA\\_LO\\_QREALM\\_QUERIAS & APASIONA\\_TUCARRERA & OPORT\\_LABORALES & FERIAS\\_EXPO & REC\\_FINANCIEROS\\\\\n",
       "\\hline\n",
       "\t40 &  2 & 4  & 4  & 5  & 5  & 1 \\\\\n",
       "\t15 &  2 & 2  & 3  & 1  & 1  & 1 \\\\\n",
       "\t26 & 10 & 3  & 4  & 5  & 1  & 3 \\\\\n",
       "\t49 & 14 & 4  & 5  & 5  & 5  & 3 \\\\\n",
       "\t13 &  8 & 2  & 5  & 5  & 3  & 1 \\\\\n",
       "\t10 &  6 & 2  & 2  & 5  & 1  & 1 \\\\\n",
       "\\end{tabular}\n"
      ],
      "text/markdown": [
       "\n",
       "| <!--/--> | CARRERA | CARRERA_LO_QREALM_QUERIAS | APASIONA_TUCARRERA | OPORT_LABORALES | FERIAS_EXPO | REC_FINANCIEROS |\n",
       "|---|---|---|---|---|---|---|\n",
       "| 40 |  2 | 4  | 4  | 5  | 5  | 1  |\n",
       "| 15 |  2 | 2  | 3  | 1  | 1  | 1  |\n",
       "| 26 | 10 | 3  | 4  | 5  | 1  | 3  |\n",
       "| 49 | 14 | 4  | 5  | 5  | 5  | 3  |\n",
       "| 13 |  8 | 2  | 5  | 5  | 3  | 1  |\n",
       "| 10 |  6 | 2  | 2  | 5  | 1  | 1  |\n",
       "\n"
      ],
      "text/plain": [
       "   CARRERA CARRERA_LO_QREALM_QUERIAS APASIONA_TUCARRERA OPORT_LABORALES\n",
       "40  2      4                         4                  5              \n",
       "15  2      2                         3                  1              \n",
       "26 10      3                         4                  5              \n",
       "49 14      4                         5                  5              \n",
       "13  8      2                         5                  5              \n",
       "10  6      2                         2                  5              \n",
       "   FERIAS_EXPO REC_FINANCIEROS\n",
       "40 5           1              \n",
       "15 1           1              \n",
       "26 1           3              \n",
       "49 5           3              \n",
       "13 3           1              \n",
       "10 1           1              "
      ]
     },
     "metadata": {},
     "output_type": "display_data"
    }
   ],
   "source": [
    "head(df)\n"
   ]
  },
  {
   "cell_type": "code",
   "execution_count": 43,
   "metadata": {
    "scrolled": true
   },
   "outputs": [
    {
     "data": {
      "text/html": [
       "<table>\n",
       "<thead><tr><th></th><th scope=col>CARRERA</th><th scope=col>CARRERA_LO_QREALM_QUERIAS</th><th scope=col>APASIONA_TUCARRERA</th><th scope=col>OPORT_LABORALES</th><th scope=col>FERIAS_EXPO</th><th scope=col>REC_FINANCIEROS</th></tr></thead>\n",
       "<tbody>\n",
       "\t<tr><th scope=row>40</th><td>-0.82983003</td><td> 1.2486356 </td><td> 0.4280550 </td><td> 0.6492345 </td><td> 1.1371586 </td><td>-0.9132324 </td></tr>\n",
       "\t<tr><th scope=row>15</th><td>-0.82983003</td><td>-0.5351296 </td><td>-0.3745481 </td><td>-2.1331989 </td><td>-0.9304025 </td><td>-0.9132324 </td></tr>\n",
       "\t<tr><th scope=row>26</th><td> 0.98070822</td><td> 0.3567530 </td><td> 0.4280550 </td><td> 0.6492345 </td><td>-0.9304025 </td><td> 0.5287135 </td></tr>\n",
       "\t<tr><th scope=row>49</th><td> 1.88597735</td><td> 1.2486356 </td><td> 1.2306581 </td><td> 0.6492345 </td><td> 1.1371586 </td><td> 0.5287135 </td></tr>\n",
       "\t<tr><th scope=row>13</th><td> 0.52807366</td><td>-0.5351296 </td><td> 1.2306581 </td><td> 0.6492345 </td><td> 0.1033781 </td><td>-0.9132324 </td></tr>\n",
       "\t<tr><th scope=row>10</th><td> 0.07543909</td><td>-0.5351296 </td><td>-1.1771513 </td><td> 0.6492345 </td><td>-0.9304025 </td><td>-0.9132324 </td></tr>\n",
       "</tbody>\n",
       "</table>\n"
      ],
      "text/latex": [
       "\\begin{tabular}{r|llllll}\n",
       "  & CARRERA & CARRERA\\_LO\\_QREALM\\_QUERIAS & APASIONA\\_TUCARRERA & OPORT\\_LABORALES & FERIAS\\_EXPO & REC\\_FINANCIEROS\\\\\n",
       "\\hline\n",
       "\t40 & -0.82983003 &  1.2486356  &  0.4280550  &  0.6492345  &  1.1371586  & -0.9132324 \\\\\n",
       "\t15 & -0.82983003 & -0.5351296  & -0.3745481  & -2.1331989  & -0.9304025  & -0.9132324 \\\\\n",
       "\t26 &  0.98070822 &  0.3567530  &  0.4280550  &  0.6492345  & -0.9304025  &  0.5287135 \\\\\n",
       "\t49 &  1.88597735 &  1.2486356  &  1.2306581  &  0.6492345  &  1.1371586  &  0.5287135 \\\\\n",
       "\t13 &  0.52807366 & -0.5351296  &  1.2306581  &  0.6492345  &  0.1033781  & -0.9132324 \\\\\n",
       "\t10 &  0.07543909 & -0.5351296  & -1.1771513  &  0.6492345  & -0.9304025  & -0.9132324 \\\\\n",
       "\\end{tabular}\n"
      ],
      "text/markdown": [
       "\n",
       "| <!--/--> | CARRERA | CARRERA_LO_QREALM_QUERIAS | APASIONA_TUCARRERA | OPORT_LABORALES | FERIAS_EXPO | REC_FINANCIEROS |\n",
       "|---|---|---|---|---|---|---|\n",
       "| 40 | -0.82983003 |  1.2486356  |  0.4280550  |  0.6492345  |  1.1371586  | -0.9132324  |\n",
       "| 15 | -0.82983003 | -0.5351296  | -0.3745481  | -2.1331989  | -0.9304025  | -0.9132324  |\n",
       "| 26 |  0.98070822 |  0.3567530  |  0.4280550  |  0.6492345  | -0.9304025  |  0.5287135  |\n",
       "| 49 |  1.88597735 |  1.2486356  |  1.2306581  |  0.6492345  |  1.1371586  |  0.5287135  |\n",
       "| 13 |  0.52807366 | -0.5351296  |  1.2306581  |  0.6492345  |  0.1033781  | -0.9132324  |\n",
       "| 10 |  0.07543909 | -0.5351296  | -1.1771513  |  0.6492345  | -0.9304025  | -0.9132324  |\n",
       "\n"
      ],
      "text/plain": [
       "   CARRERA     CARRERA_LO_QREALM_QUERIAS APASIONA_TUCARRERA OPORT_LABORALES\n",
       "40 -0.82983003  1.2486356                 0.4280550          0.6492345     \n",
       "15 -0.82983003 -0.5351296                -0.3745481         -2.1331989     \n",
       "26  0.98070822  0.3567530                 0.4280550          0.6492345     \n",
       "49  1.88597735  1.2486356                 1.2306581          0.6492345     \n",
       "13  0.52807366 -0.5351296                 1.2306581          0.6492345     \n",
       "10  0.07543909 -0.5351296                -1.1771513          0.6492345     \n",
       "   FERIAS_EXPO REC_FINANCIEROS\n",
       "40  1.1371586  -0.9132324     \n",
       "15 -0.9304025  -0.9132324     \n",
       "26 -0.9304025   0.5287135     \n",
       "49  1.1371586   0.5287135     \n",
       "13  0.1033781  -0.9132324     \n",
       "10 -0.9304025  -0.9132324     "
      ]
     },
     "metadata": {},
     "output_type": "display_data"
    }
   ],
   "source": [
    "head(df.scaled)"
   ]
  },
  {
   "cell_type": "code",
   "execution_count": 59,
   "metadata": {
    "scrolled": true
   },
   "outputs": [
    {
     "data": {
      "text/html": [
       "<table>\n",
       "<thead><tr><th></th><th scope=col>40</th><th scope=col>15</th><th scope=col>26</th><th scope=col>49</th><th scope=col>13</th><th scope=col>10</th><th scope=col>38</th><th scope=col>14</th><th scope=col>41</th><th scope=col>24</th><th scope=col>4</th><th scope=col>18</th><th scope=col>37</th><th scope=col>5</th><th scope=col>7</th></tr></thead>\n",
       "<tbody>\n",
       "\t<tr><th scope=row>40</th><td>0.00</td><td>3.98</td><td>3.23</td><td>3.18</td><td>2.60</td><td>3.29</td><td>0.00</td><td>3.29</td><td>4.25</td><td>1.83</td><td>5.21</td><td>3.02</td><td>3.37</td><td>3.48</td><td>3.56</td></tr>\n",
       "\t<tr><th scope=row>15</th><td>3.98</td><td>0.00</td><td>3.81</td><td>5.22</td><td>3.64</td><td>3.03</td><td>3.98</td><td>3.03</td><td>4.64</td><td>3.49</td><td>2.35</td><td>4.67</td><td>2.27</td><td>1.73</td><td>4.50</td></tr>\n",
       "\t<tr><th scope=row>26</th><td>3.23</td><td>3.81</td><td>0.00</td><td>2.56</td><td>2.19</td><td>2.50</td><td>3.23</td><td>2.50</td><td>1.75</td><td>2.83</td><td>4.39</td><td>3.10</td><td>2.34</td><td>3.37</td><td>3.23</td></tr>\n",
       "\t<tr><th scope=row>49</th><td>3.18</td><td>5.22</td><td>2.56</td><td>0.00</td><td>2.86</td><td>4.31</td><td>3.18</td><td>4.31</td><td>2.44</td><td>3.05</td><td>5.97</td><td>3.30</td><td>3.98</td><td>4.85</td><td>3.58</td></tr>\n",
       "\t<tr><th scope=row>13</th><td>2.60</td><td>3.64</td><td>2.19</td><td>2.86</td><td>0.00</td><td>2.66</td><td>2.60</td><td>2.66</td><td>3.54</td><td>2.63</td><td>4.82</td><td>3.56</td><td>3.19</td><td>2.72</td><td>2.71</td></tr>\n",
       "\t<tr><th scope=row>10</th><td>3.29</td><td>3.03</td><td>2.50</td><td>4.31</td><td>2.66</td><td>0.00</td><td>3.29</td><td>0.00</td><td>3.88</td><td>3.32</td><td>3.42</td><td>4.10</td><td>1.82</td><td>2.11</td><td>3.97</td></tr>\n",
       "\t<tr><th scope=row>38</th><td>0.00</td><td>3.98</td><td>3.23</td><td>3.18</td><td>2.60</td><td>3.29</td><td>0.00</td><td>3.29</td><td>4.25</td><td>1.83</td><td>5.21</td><td>3.02</td><td>3.37</td><td>3.48</td><td>3.56</td></tr>\n",
       "\t<tr><th scope=row>14</th><td>3.29</td><td>3.03</td><td>2.50</td><td>4.31</td><td>2.66</td><td>0.00</td><td>3.29</td><td>0.00</td><td>3.88</td><td>3.32</td><td>3.42</td><td>4.10</td><td>1.82</td><td>2.11</td><td>3.97</td></tr>\n",
       "\t<tr><th scope=row>41</th><td>4.25</td><td>4.64</td><td>1.75</td><td>2.44</td><td>3.54</td><td>3.88</td><td>4.25</td><td>3.88</td><td>0.00</td><td>3.77</td><td>5.02</td><td>3.84</td><td>3.04</td><td>4.68</td><td>4.33</td></tr>\n",
       "\t<tr><th scope=row>24</th><td>1.83</td><td>3.49</td><td>2.83</td><td>3.05</td><td>2.63</td><td>3.32</td><td>1.83</td><td>3.32</td><td>3.77</td><td>0.00</td><td>4.20</td><td>1.60</td><td>3.02</td><td>2.97</td><td>2.24</td></tr>\n",
       "\t<tr><th scope=row>4</th><td>5.21</td><td>2.35</td><td>4.39</td><td>5.97</td><td>4.82</td><td>3.42</td><td>5.21</td><td>3.42</td><td>5.02</td><td>4.20</td><td>0.00</td><td>4.81</td><td>2.66</td><td>2.63</td><td>4.78</td></tr>\n",
       "\t<tr><th scope=row>18</th><td>3.02</td><td>4.67</td><td>3.10</td><td>3.30</td><td>3.56</td><td>4.10</td><td>3.02</td><td>4.10</td><td>3.84</td><td>1.60</td><td>4.81</td><td>0.00</td><td>3.84</td><td>4.06</td><td>2.13</td></tr>\n",
       "\t<tr><th scope=row>37</th><td>3.37</td><td>2.27</td><td>2.34</td><td>3.98</td><td>3.19</td><td>1.82</td><td>3.37</td><td>1.82</td><td>3.04</td><td>3.02</td><td>2.66</td><td>3.84</td><td>0.00</td><td>2.43</td><td>4.21</td></tr>\n",
       "\t<tr><th scope=row>5</th><td>3.48</td><td>1.73</td><td>3.37</td><td>4.85</td><td>2.72</td><td>2.11</td><td>3.48</td><td>2.11</td><td>4.68</td><td>2.97</td><td>2.63</td><td>4.06</td><td>2.43</td><td>0.00</td><td>3.44</td></tr>\n",
       "\t<tr><th scope=row>7</th><td>3.56</td><td>4.50</td><td>3.23</td><td>3.58</td><td>2.71</td><td>3.97</td><td>3.56</td><td>3.97</td><td>4.33</td><td>2.24</td><td>4.78</td><td>2.13</td><td>4.21</td><td>3.44</td><td>0.00</td></tr>\n",
       "</tbody>\n",
       "</table>\n"
      ],
      "text/latex": [
       "\\begin{tabular}{r|lllllllllllllll}\n",
       "  & 40 & 15 & 26 & 49 & 13 & 10 & 38 & 14 & 41 & 24 & 4 & 18 & 37 & 5 & 7\\\\\n",
       "\\hline\n",
       "\t40 & 0.00 & 3.98 & 3.23 & 3.18 & 2.60 & 3.29 & 0.00 & 3.29 & 4.25 & 1.83 & 5.21 & 3.02 & 3.37 & 3.48 & 3.56\\\\\n",
       "\t15 & 3.98 & 0.00 & 3.81 & 5.22 & 3.64 & 3.03 & 3.98 & 3.03 & 4.64 & 3.49 & 2.35 & 4.67 & 2.27 & 1.73 & 4.50\\\\\n",
       "\t26 & 3.23 & 3.81 & 0.00 & 2.56 & 2.19 & 2.50 & 3.23 & 2.50 & 1.75 & 2.83 & 4.39 & 3.10 & 2.34 & 3.37 & 3.23\\\\\n",
       "\t49 & 3.18 & 5.22 & 2.56 & 0.00 & 2.86 & 4.31 & 3.18 & 4.31 & 2.44 & 3.05 & 5.97 & 3.30 & 3.98 & 4.85 & 3.58\\\\\n",
       "\t13 & 2.60 & 3.64 & 2.19 & 2.86 & 0.00 & 2.66 & 2.60 & 2.66 & 3.54 & 2.63 & 4.82 & 3.56 & 3.19 & 2.72 & 2.71\\\\\n",
       "\t10 & 3.29 & 3.03 & 2.50 & 4.31 & 2.66 & 0.00 & 3.29 & 0.00 & 3.88 & 3.32 & 3.42 & 4.10 & 1.82 & 2.11 & 3.97\\\\\n",
       "\t38 & 0.00 & 3.98 & 3.23 & 3.18 & 2.60 & 3.29 & 0.00 & 3.29 & 4.25 & 1.83 & 5.21 & 3.02 & 3.37 & 3.48 & 3.56\\\\\n",
       "\t14 & 3.29 & 3.03 & 2.50 & 4.31 & 2.66 & 0.00 & 3.29 & 0.00 & 3.88 & 3.32 & 3.42 & 4.10 & 1.82 & 2.11 & 3.97\\\\\n",
       "\t41 & 4.25 & 4.64 & 1.75 & 2.44 & 3.54 & 3.88 & 4.25 & 3.88 & 0.00 & 3.77 & 5.02 & 3.84 & 3.04 & 4.68 & 4.33\\\\\n",
       "\t24 & 1.83 & 3.49 & 2.83 & 3.05 & 2.63 & 3.32 & 1.83 & 3.32 & 3.77 & 0.00 & 4.20 & 1.60 & 3.02 & 2.97 & 2.24\\\\\n",
       "\t4 & 5.21 & 2.35 & 4.39 & 5.97 & 4.82 & 3.42 & 5.21 & 3.42 & 5.02 & 4.20 & 0.00 & 4.81 & 2.66 & 2.63 & 4.78\\\\\n",
       "\t18 & 3.02 & 4.67 & 3.10 & 3.30 & 3.56 & 4.10 & 3.02 & 4.10 & 3.84 & 1.60 & 4.81 & 0.00 & 3.84 & 4.06 & 2.13\\\\\n",
       "\t37 & 3.37 & 2.27 & 2.34 & 3.98 & 3.19 & 1.82 & 3.37 & 1.82 & 3.04 & 3.02 & 2.66 & 3.84 & 0.00 & 2.43 & 4.21\\\\\n",
       "\t5 & 3.48 & 1.73 & 3.37 & 4.85 & 2.72 & 2.11 & 3.48 & 2.11 & 4.68 & 2.97 & 2.63 & 4.06 & 2.43 & 0.00 & 3.44\\\\\n",
       "\t7 & 3.56 & 4.50 & 3.23 & 3.58 & 2.71 & 3.97 & 3.56 & 3.97 & 4.33 & 2.24 & 4.78 & 2.13 & 4.21 & 3.44 & 0.00\\\\\n",
       "\\end{tabular}\n"
      ],
      "text/markdown": [
       "\n",
       "| <!--/--> | 40 | 15 | 26 | 49 | 13 | 10 | 38 | 14 | 41 | 24 | 4 | 18 | 37 | 5 | 7 |\n",
       "|---|---|---|---|---|---|---|---|---|---|---|---|---|---|---|---|\n",
       "| 40 | 0.00 | 3.98 | 3.23 | 3.18 | 2.60 | 3.29 | 0.00 | 3.29 | 4.25 | 1.83 | 5.21 | 3.02 | 3.37 | 3.48 | 3.56 |\n",
       "| 15 | 3.98 | 0.00 | 3.81 | 5.22 | 3.64 | 3.03 | 3.98 | 3.03 | 4.64 | 3.49 | 2.35 | 4.67 | 2.27 | 1.73 | 4.50 |\n",
       "| 26 | 3.23 | 3.81 | 0.00 | 2.56 | 2.19 | 2.50 | 3.23 | 2.50 | 1.75 | 2.83 | 4.39 | 3.10 | 2.34 | 3.37 | 3.23 |\n",
       "| 49 | 3.18 | 5.22 | 2.56 | 0.00 | 2.86 | 4.31 | 3.18 | 4.31 | 2.44 | 3.05 | 5.97 | 3.30 | 3.98 | 4.85 | 3.58 |\n",
       "| 13 | 2.60 | 3.64 | 2.19 | 2.86 | 0.00 | 2.66 | 2.60 | 2.66 | 3.54 | 2.63 | 4.82 | 3.56 | 3.19 | 2.72 | 2.71 |\n",
       "| 10 | 3.29 | 3.03 | 2.50 | 4.31 | 2.66 | 0.00 | 3.29 | 0.00 | 3.88 | 3.32 | 3.42 | 4.10 | 1.82 | 2.11 | 3.97 |\n",
       "| 38 | 0.00 | 3.98 | 3.23 | 3.18 | 2.60 | 3.29 | 0.00 | 3.29 | 4.25 | 1.83 | 5.21 | 3.02 | 3.37 | 3.48 | 3.56 |\n",
       "| 14 | 3.29 | 3.03 | 2.50 | 4.31 | 2.66 | 0.00 | 3.29 | 0.00 | 3.88 | 3.32 | 3.42 | 4.10 | 1.82 | 2.11 | 3.97 |\n",
       "| 41 | 4.25 | 4.64 | 1.75 | 2.44 | 3.54 | 3.88 | 4.25 | 3.88 | 0.00 | 3.77 | 5.02 | 3.84 | 3.04 | 4.68 | 4.33 |\n",
       "| 24 | 1.83 | 3.49 | 2.83 | 3.05 | 2.63 | 3.32 | 1.83 | 3.32 | 3.77 | 0.00 | 4.20 | 1.60 | 3.02 | 2.97 | 2.24 |\n",
       "| 4 | 5.21 | 2.35 | 4.39 | 5.97 | 4.82 | 3.42 | 5.21 | 3.42 | 5.02 | 4.20 | 0.00 | 4.81 | 2.66 | 2.63 | 4.78 |\n",
       "| 18 | 3.02 | 4.67 | 3.10 | 3.30 | 3.56 | 4.10 | 3.02 | 4.10 | 3.84 | 1.60 | 4.81 | 0.00 | 3.84 | 4.06 | 2.13 |\n",
       "| 37 | 3.37 | 2.27 | 2.34 | 3.98 | 3.19 | 1.82 | 3.37 | 1.82 | 3.04 | 3.02 | 2.66 | 3.84 | 0.00 | 2.43 | 4.21 |\n",
       "| 5 | 3.48 | 1.73 | 3.37 | 4.85 | 2.72 | 2.11 | 3.48 | 2.11 | 4.68 | 2.97 | 2.63 | 4.06 | 2.43 | 0.00 | 3.44 |\n",
       "| 7 | 3.56 | 4.50 | 3.23 | 3.58 | 2.71 | 3.97 | 3.56 | 3.97 | 4.33 | 2.24 | 4.78 | 2.13 | 4.21 | 3.44 | 0.00 |\n",
       "\n"
      ],
      "text/plain": [
       "   40   15   26   49   13   10   38   14   41   24   4    18   37   5    7   \n",
       "40 0.00 3.98 3.23 3.18 2.60 3.29 0.00 3.29 4.25 1.83 5.21 3.02 3.37 3.48 3.56\n",
       "15 3.98 0.00 3.81 5.22 3.64 3.03 3.98 3.03 4.64 3.49 2.35 4.67 2.27 1.73 4.50\n",
       "26 3.23 3.81 0.00 2.56 2.19 2.50 3.23 2.50 1.75 2.83 4.39 3.10 2.34 3.37 3.23\n",
       "49 3.18 5.22 2.56 0.00 2.86 4.31 3.18 4.31 2.44 3.05 5.97 3.30 3.98 4.85 3.58\n",
       "13 2.60 3.64 2.19 2.86 0.00 2.66 2.60 2.66 3.54 2.63 4.82 3.56 3.19 2.72 2.71\n",
       "10 3.29 3.03 2.50 4.31 2.66 0.00 3.29 0.00 3.88 3.32 3.42 4.10 1.82 2.11 3.97\n",
       "38 0.00 3.98 3.23 3.18 2.60 3.29 0.00 3.29 4.25 1.83 5.21 3.02 3.37 3.48 3.56\n",
       "14 3.29 3.03 2.50 4.31 2.66 0.00 3.29 0.00 3.88 3.32 3.42 4.10 1.82 2.11 3.97\n",
       "41 4.25 4.64 1.75 2.44 3.54 3.88 4.25 3.88 0.00 3.77 5.02 3.84 3.04 4.68 4.33\n",
       "24 1.83 3.49 2.83 3.05 2.63 3.32 1.83 3.32 3.77 0.00 4.20 1.60 3.02 2.97 2.24\n",
       "4  5.21 2.35 4.39 5.97 4.82 3.42 5.21 3.42 5.02 4.20 0.00 4.81 2.66 2.63 4.78\n",
       "18 3.02 4.67 3.10 3.30 3.56 4.10 3.02 4.10 3.84 1.60 4.81 0.00 3.84 4.06 2.13\n",
       "37 3.37 2.27 2.34 3.98 3.19 1.82 3.37 1.82 3.04 3.02 2.66 3.84 0.00 2.43 4.21\n",
       "5  3.48 1.73 3.37 4.85 2.72 2.11 3.48 2.11 4.68 2.97 2.63 4.06 2.43 0.00 3.44\n",
       "7  3.56 4.50 3.23 3.58 2.71 3.97 3.56 3.97 4.33 2.24 4.78 2.13 4.21 3.44 0.00"
      ]
     },
     "metadata": {},
     "output_type": "display_data"
    }
   ],
   "source": [
    "dd <- daisy(df.scaled) \n",
    "round(as.matrix(dd)[1:15, 1:15], 2)"
   ]
  },
  {
   "cell_type": "code",
   "execution_count": 60,
   "metadata": {},
   "outputs": [
    {
     "ename": "ERROR",
     "evalue": "Error in FUN(X[[i]], ...): there is no package called 'factoextra'\n",
     "output_type": "error",
     "traceback": [
      "Error in FUN(X[[i]], ...): there is no package called 'factoextra'\nTraceback:\n",
      "1. lapply(packages, library, character.only = TRUE)",
      "2. FUN(X[[i]], ...)"
     ]
    }
   ],
   "source": [
    "packages <- c(\"stats\", \"cluster\", \"factoextra\")\n",
    "lapply(packages, library, character.only = TRUE)"
   ]
  },
  {
   "cell_type": "code",
   "execution_count": 63,
   "metadata": {},
   "outputs": [
    {
     "data": {
      "text/html": [
       "<ol>\n",
       "\t<li><ol class=list-inline>\n",
       "\t<li>'cluster'</li>\n",
       "\t<li>'ggplot2'</li>\n",
       "\t<li>'dplyr'</li>\n",
       "\t<li>'stats'</li>\n",
       "\t<li>'graphics'</li>\n",
       "\t<li>'grDevices'</li>\n",
       "\t<li>'utils'</li>\n",
       "\t<li>'datasets'</li>\n",
       "\t<li>'methods'</li>\n",
       "\t<li>'base'</li>\n",
       "</ol>\n",
       "</li>\n",
       "\t<li><ol class=list-inline>\n",
       "\t<li>'cluster'</li>\n",
       "\t<li>'ggplot2'</li>\n",
       "\t<li>'dplyr'</li>\n",
       "\t<li>'stats'</li>\n",
       "\t<li>'graphics'</li>\n",
       "\t<li>'grDevices'</li>\n",
       "\t<li>'utils'</li>\n",
       "\t<li>'datasets'</li>\n",
       "\t<li>'methods'</li>\n",
       "\t<li>'base'</li>\n",
       "</ol>\n",
       "</li>\n",
       "</ol>\n"
      ],
      "text/latex": [
       "\\begin{enumerate}\n",
       "\\item \\begin{enumerate*}\n",
       "\\item 'cluster'\n",
       "\\item 'ggplot2'\n",
       "\\item 'dplyr'\n",
       "\\item 'stats'\n",
       "\\item 'graphics'\n",
       "\\item 'grDevices'\n",
       "\\item 'utils'\n",
       "\\item 'datasets'\n",
       "\\item 'methods'\n",
       "\\item 'base'\n",
       "\\end{enumerate*}\n",
       "\n",
       "\\item \\begin{enumerate*}\n",
       "\\item 'cluster'\n",
       "\\item 'ggplot2'\n",
       "\\item 'dplyr'\n",
       "\\item 'stats'\n",
       "\\item 'graphics'\n",
       "\\item 'grDevices'\n",
       "\\item 'utils'\n",
       "\\item 'datasets'\n",
       "\\item 'methods'\n",
       "\\item 'base'\n",
       "\\end{enumerate*}\n",
       "\n",
       "\\end{enumerate}\n"
      ],
      "text/markdown": [
       "1. 1. 'cluster'\n",
       "2. 'ggplot2'\n",
       "3. 'dplyr'\n",
       "4. 'stats'\n",
       "5. 'graphics'\n",
       "6. 'grDevices'\n",
       "7. 'utils'\n",
       "8. 'datasets'\n",
       "9. 'methods'\n",
       "10. 'base'\n",
       "\n",
       "\n",
       "\n",
       "2. 1. 'cluster'\n",
       "2. 'ggplot2'\n",
       "3. 'dplyr'\n",
       "4. 'stats'\n",
       "5. 'graphics'\n",
       "6. 'grDevices'\n",
       "7. 'utils'\n",
       "8. 'datasets'\n",
       "9. 'methods'\n",
       "10. 'base'\n",
       "\n",
       "\n",
       "\n",
       "\n",
       "\n"
      ],
      "text/plain": [
       "[[1]]\n",
       " [1] \"cluster\"   \"ggplot2\"   \"dplyr\"     \"stats\"     \"graphics\"  \"grDevices\"\n",
       " [7] \"utils\"     \"datasets\"  \"methods\"   \"base\"     \n",
       "\n",
       "[[2]]\n",
       " [1] \"cluster\"   \"ggplot2\"   \"dplyr\"     \"stats\"     \"graphics\"  \"grDevices\"\n",
       " [7] \"utils\"     \"datasets\"  \"methods\"   \"base\"     \n"
      ]
     },
     "metadata": {},
     "output_type": "display_data"
    }
   ],
   "source": [
    "packages <- c(\"stats\", \"cluster\")\n",
    "lapply(packages, library, character.only = TRUE)"
   ]
  },
  {
   "cell_type": "code",
   "execution_count": 68,
   "metadata": {},
   "outputs": [
    {
     "data": {
      "text/plain": [
       "K-means clustering with 7 clusters of sizes 3, 1, 1, 2, 3, 2, 3\n",
       "\n",
       "Cluster means:\n",
       "     CARRERA CARRERA_LO_QREALM_QUERIAS APASIONA_TUCARRERA OPORT_LABORALES\n",
       "1  0.1508782                -0.2378354         -1.1771513       0.1854956\n",
       "2  0.5280737                -0.5351296          1.2306581       0.6492345\n",
       "3 -0.6035128                -1.4270121         -1.9797544      -2.1331989\n",
       "4 -0.8298300                -0.9810708         -0.3745481      -1.4375906\n",
       "5  1.6596601                 0.9513414          0.6955894       0.4173650\n",
       "6 -0.8298300                 1.2486356          0.4280550       0.6492345\n",
       "7 -0.6789518                -0.2378354          0.6955894       0.4173650\n",
       "  FERIAS_EXPO REC_FINANCIEROS\n",
       "1  -0.9304025      -0.6729081\n",
       "2   0.1033781      -0.9132324\n",
       "3  -0.9304025       0.5287135\n",
       "4  -0.6719574      -0.9132324\n",
       "5  -0.2412155       0.7690378\n",
       "6   1.1371586      -0.9132324\n",
       "7   1.1371586       1.2496864\n",
       "\n",
       "Clustering vector:\n",
       "40 15 26 49 13 10 38 14 41 24  4 18 37  5  7 \n",
       " 6  4  5  5  2  1  6  1  5  7  3  7  1  4  7 \n",
       "\n",
       "Within cluster sum of squares by cluster:\n",
       "[1] 2.201307 0.000000 0.000000 1.499057 5.195812 0.000000 4.049430\n",
       " (between_SS / total_SS =  84.6 %)\n",
       "\n",
       "Available components:\n",
       "\n",
       "[1] \"cluster\"      \"centers\"      \"totss\"        \"withinss\"     \"tot.withinss\"\n",
       "[6] \"betweenss\"    \"size\"         \"iter\"         \"ifault\"      "
      ]
     },
     "metadata": {},
     "output_type": "display_data"
    }
   ],
   "source": [
    "kmeans(df.scaled, 7, iter.max = 10, nstart = 1)"
   ]
  },
  {
   "cell_type": "code",
   "execution_count": 74,
   "metadata": {},
   "outputs": [
    {
     "name": "stderr",
     "output_type": "stream",
     "text": [
      "also installing the dependencies 'zip', 'SparseM', 'MatrixModels', 'sp', 'openxlsx', 'minqa', 'nloptr', 'RcppEigen', 'carData', 'pbkrtest', 'quantreg', 'maptools', 'rio', 'lme4', 'viridis', 'car', 'ellipse', 'flashClust', 'leaps', 'scatterplot3d', 'ggsci', 'cowplot', 'ggsignif', 'gridExtra', 'polynom', 'abind', 'dendextend', 'FactoMineR', 'ggpubr', 'ggrepel'\n",
      "\n"
     ]
    },
    {
     "name": "stdout",
     "output_type": "stream",
     "text": [
      "package 'zip' successfully unpacked and MD5 sums checked\n"
     ]
    },
    {
     "ename": "ERROR",
     "evalue": "Error in unpackPkgZip(foundpkgs[okp, 2L], foundpkgs[okp, 1L], lib, libs_only, : ERROR: failed to lock directory 'C:\\Users\\Axel\\Anaconda3\\Lib\\R\\library' for modifying\nTry removing 'C:\\Users\\Axel\\Anaconda3\\Lib\\R\\library/00LOCK'\n",
     "output_type": "error",
     "traceback": [
      "Error in unpackPkgZip(foundpkgs[okp, 2L], foundpkgs[okp, 1L], lib, libs_only, : ERROR: failed to lock directory 'C:\\Users\\Axel\\Anaconda3\\Lib\\R\\library' for modifying\nTry removing 'C:\\Users\\Axel\\Anaconda3\\Lib\\R\\library/00LOCK'\nTraceback:\n",
      "1. install.packages(\"factoextra\")",
      "2. .install.winbinary(pkgs = bins, lib = lib, contriburl = contrib.url(repos, \n .     type2), method = method, available = av2, destdir = destdir, \n .     dependencies = NULL, libs_only = libs_only, quiet = quiet, \n .     ...)",
      "3. unpackPkgZip(foundpkgs[okp, 2L], foundpkgs[okp, 1L], lib, libs_only, \n .     lock)",
      "4. stop(gettextf(\"ERROR: failed to lock directory %s for modifying\\nTry removing %s\", \n .     sQuote(lib), sQuote(lockdir)), domain = NA)"
     ]
    }
   ],
   "source": [
    "\n",
    "install.packages(\"factoextra\")"
   ]
  },
  {
   "cell_type": "code",
   "execution_count": 75,
   "metadata": {},
   "outputs": [
    {
     "ename": "ERROR",
     "evalue": "Error in library(factoextra): there is no package called 'factoextra'\n",
     "output_type": "error",
     "traceback": [
      "Error in library(factoextra): there is no package called 'factoextra'\nTraceback:\n",
      "1. library(factoextra)"
     ]
    }
   ],
   "source": [
    "library(factoextra)"
   ]
  },
  {
   "cell_type": "code",
   "execution_count": 76,
   "metadata": {},
   "outputs": [
    {
     "name": "stderr",
     "output_type": "stream",
     "text": [
      "also installing the dependencies 'zip', 'SparseM', 'MatrixModels', 'sp', 'openxlsx', 'minqa', 'nloptr', 'RcppEigen', 'carData', 'pbkrtest', 'quantreg', 'maptools', 'rio', 'lme4', 'viridis', 'car', 'ellipse', 'flashClust', 'leaps', 'scatterplot3d', 'ggsci', 'cowplot', 'ggsignif', 'gridExtra', 'polynom', 'modeltools', 'DEoptimR', 'abind', 'dendextend', 'FactoMineR', 'ggpubr', 'ggrepel', 'mclust', 'flexmix', 'prabclus', 'diptest', 'robustbase', 'kernlab'\n",
      "\n"
     ]
    },
    {
     "name": "stdout",
     "output_type": "stream",
     "text": [
      "package 'zip' successfully unpacked and MD5 sums checked\n"
     ]
    },
    {
     "ename": "ERROR",
     "evalue": "Error in unpackPkgZip(foundpkgs[okp, 2L], foundpkgs[okp, 1L], lib, libs_only, : ERROR: failed to lock directory 'C:\\Users\\Axel\\Anaconda3\\Lib\\R\\library' for modifying\nTry removing 'C:\\Users\\Axel\\Anaconda3\\Lib\\R\\library/00LOCK'\n",
     "output_type": "error",
     "traceback": [
      "Error in unpackPkgZip(foundpkgs[okp, 2L], foundpkgs[okp, 1L], lib, libs_only, : ERROR: failed to lock directory 'C:\\Users\\Axel\\Anaconda3\\Lib\\R\\library' for modifying\nTry removing 'C:\\Users\\Axel\\Anaconda3\\Lib\\R\\library/00LOCK'\nTraceback:\n",
      "1. install.packages(c(\"factoextra\", \"fpc\", \"NbClust\"))",
      "2. .install.winbinary(pkgs = bins, lib = lib, contriburl = contrib.url(repos, \n .     type2), method = method, available = av2, destdir = destdir, \n .     dependencies = NULL, libs_only = libs_only, quiet = quiet, \n .     ...)",
      "3. unpackPkgZip(foundpkgs[okp, 2L], foundpkgs[okp, 1L], lib, libs_only, \n .     lock)",
      "4. stop(gettextf(\"ERROR: failed to lock directory %s for modifying\\nTry removing %s\", \n .     sQuote(lib), sQuote(lockdir)), domain = NA)"
     ]
    }
   ],
   "source": [
    "install.packages(c(\"factoextra\",\"fpc\",\"NbClust\"))"
   ]
  },
  {
   "cell_type": "code",
   "execution_count": null,
   "metadata": {},
   "outputs": [],
   "source": []
  }
 ],
 "metadata": {
  "kernelspec": {
   "display_name": "R",
   "language": "R",
   "name": "ir"
  },
  "language_info": {
   "codemirror_mode": "r",
   "file_extension": ".r",
   "mimetype": "text/x-r-source",
   "name": "R",
   "pygments_lexer": "r",
   "version": "3.6.1"
  }
 },
 "nbformat": 4,
 "nbformat_minor": 2
}
